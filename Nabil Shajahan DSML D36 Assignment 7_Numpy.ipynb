{
 "cells": [
  {
   "cell_type": "code",
   "execution_count": null,
   "id": "bec2b7ec-704c-43e8-a37a-cb732701fe80",
   "metadata": {},
   "outputs": [],
   "source": [
    "# ASSIGNMENT 7 - NUMPY"
   ]
  },
  {
   "cell_type": "code",
   "execution_count": 4,
   "id": "915afdc3-9002-46e3-8ce5-3333be9cbd4b",
   "metadata": {},
   "outputs": [],
   "source": [
    "import numpy as np"
   ]
  },
  {
   "cell_type": "code",
   "execution_count": null,
   "id": "a9182671-04ad-4df7-8808-66fca2b27ac7",
   "metadata": {},
   "outputs": [],
   "source": [
    "# Exercise 1: (Score : 1)\n",
    "# Create a numpy array containing the numbers from 1 to 10, and then reshape it to a 2x5 matrix."
   ]
  },
  {
   "cell_type": "code",
   "execution_count": null,
   "id": "d2e3a0f4-f4ab-4eb6-8171-0f09061acd45",
   "metadata": {},
   "outputs": [],
   "source": [
    "a1 = np.arange (1,11).reshape(2,5)\n",
    "print(a1)\n",
    "print(a1.shape)\n",
    "print(a1.ndim)"
   ]
  },
  {
   "cell_type": "code",
   "execution_count": null,
   "id": "c45b383a-cb2f-4660-a9ec-2ff0b2922680",
   "metadata": {},
   "outputs": [],
   "source": [
    "# Exercise 2: (Score : 1)\n",
    "# Create a numpy array containing the numbers from 1 to 20, and then extract the elements between the 5th and 15th index."
   ]
  },
  {
   "cell_type": "code",
   "execution_count": null,
   "id": "65bd4262-f781-4aea-9230-6c5727e13e2b",
   "metadata": {},
   "outputs": [],
   "source": [
    "a2 = np.arange (1,21)\n",
    "print(a2)\n",
    "print(a2[5:15])"
   ]
  },
  {
   "cell_type": "code",
   "execution_count": null,
   "id": "952e315f-637f-4ad6-a175-5b1bb49e4279",
   "metadata": {},
   "outputs": [],
   "source": [
    "# Exercise 3: (Score : 2)\n",
    "# Create a Pandas series with the following data: {'apples': 3, 'bananas': 2, 'oranges': 1}. \n",
    "# Then, add a new item to the series with the key 'pears' and the value 4."
   ]
  },
  {
   "cell_type": "code",
   "execution_count": 2,
   "id": "3ed552b4-5652-426a-afaf-5f06ea0b4f32",
   "metadata": {},
   "outputs": [],
   "source": [
    "import pandas as pd"
   ]
  },
  {
   "cell_type": "code",
   "execution_count": null,
   "id": "f5180376-2321-4827-acdd-8aa115097a0c",
   "metadata": {},
   "outputs": [],
   "source": [
    "fruit = pd.Series ({'apples': 3, 'bananas': 2, 'oranges': 1})\n",
    "print(fruit)\n",
    "fruit[\"pears\"] = 4\n",
    "print(fruit)"
   ]
  },
  {
   "cell_type": "code",
   "execution_count": null,
   "id": "7c505900-002f-4811-89e4-05a3003314d4",
   "metadata": {},
   "outputs": [],
   "source": [
    "# Exercise 4: (Score : 2)\n",
    "# Create a dataframe with the following columns: name, age, and gender. The dataframe should have 10 rows of data."
   ]
  },
  {
   "cell_type": "code",
   "execution_count": null,
   "id": "1623012b-71d1-490f-83a1-22562cc6668b",
   "metadata": {},
   "outputs": [],
   "source": [
    "df = pd.DataFrame({\n",
    "    'name': ['Alice', 'Bob', 'Charlie', 'David', 'Eve', \n",
    "             'Frank', 'Grace', 'Hannah', 'Ian', 'Jane'],\n",
    "    'age': [25, 30, 22, 35, 28, 40, 33, 27, 29, 31],\n",
    "    'gender': ['Female', 'Male', 'Male', 'Male', 'Female', \n",
    "               'Male', 'Female', 'Female', 'Male', 'Female']\n",
    "})\n",
    "df"
   ]
  },
  {
   "cell_type": "code",
   "execution_count": null,
   "id": "ead972b6-a962-4cdb-9b3c-b89121f33676",
   "metadata": {},
   "outputs": [],
   "source": [
    "# Exercise 5: (Score : 1)\n",
    "# Add a new column to the data frame created in question 1, called occupation. \n",
    "# The values for this column should be Programmer, Manager, and Analyst, corresponding to the rows in the dataframe."
   ]
  },
  {
   "cell_type": "code",
   "execution_count": null,
   "id": "65b23dbd-78cc-4aa5-85e3-924746e474de",
   "metadata": {},
   "outputs": [],
   "source": [
    "df['occupation'] = ['Programmer', 'Manager', 'Analyst', 'Manager', 'Programmer', 'Analyst', 'Manager', 'Analyst', 'Programmer', 'Analyst']\n",
    "df"
   ]
  },
  {
   "cell_type": "code",
   "execution_count": null,
   "id": "dd97f2f7-f31f-46f6-98c5-42781c962b61",
   "metadata": {
    "scrolled": true
   },
   "outputs": [],
   "source": [
    "# Exercise 6: (Score : 1)\n",
    "# Select the rows of the dataframe where the age is greater than or equal to 30."
   ]
  },
  {
   "cell_type": "code",
   "execution_count": null,
   "id": "5600cf95-053f-4680-88fd-28c83389da31",
   "metadata": {},
   "outputs": [],
   "source": [
    "age_condition = df[df['age'] >= 30]\n",
    "print(age_condition)"
   ]
  },
  {
   "cell_type": "code",
   "execution_count": null,
   "id": "e6a0e9ca-2081-4685-b60b-cdb5f5f26aa6",
   "metadata": {},
   "outputs": [],
   "source": [
    "# Exercise 7: (Score : 2)\n",
    "# Convert this dataframe to a csv file and read that csv file, finally display the contents."
   ]
  },
  {
   "cell_type": "code",
   "execution_count": null,
   "id": "f10989cb-4137-411a-869d-7bdcc0b7c7fb",
   "metadata": {
    "scrolled": true
   },
   "outputs": [],
   "source": [
    "df.to_csv('Employee.csv', index = False)\n",
    "print(\"df saved as 'Employee.csv'.\")\n",
    "df_csv_read = pd.read_csv('Employee.csv')\n",
    "print(df_csv_read)"
   ]
  },
  {
   "cell_type": "code",
   "execution_count": null,
   "id": "3182c573-171f-4d73-902f-8dfe9b7a84bd",
   "metadata": {},
   "outputs": [],
   "source": []
  },
  {
   "cell_type": "code",
   "execution_count": null,
   "id": "a4339de8-326e-4427-8c06-53b64ab97668",
   "metadata": {},
   "outputs": [],
   "source": []
  },
  {
   "cell_type": "code",
   "execution_count": null,
   "id": "643b8460-5948-4395-bb81-d54931e08a5d",
   "metadata": {},
   "outputs": [],
   "source": []
  }
 ],
 "metadata": {
  "kernelspec": {
   "display_name": "Python 3 (ipykernel)",
   "language": "python",
   "name": "python3"
  },
  "language_info": {
   "codemirror_mode": {
    "name": "ipython",
    "version": 3
   },
   "file_extension": ".py",
   "mimetype": "text/x-python",
   "name": "python",
   "nbconvert_exporter": "python",
   "pygments_lexer": "ipython3",
   "version": "3.12.4"
  }
 },
 "nbformat": 4,
 "nbformat_minor": 5
}
